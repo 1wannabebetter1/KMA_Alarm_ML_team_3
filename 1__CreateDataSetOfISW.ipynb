{
 "cells": [
  {
   "cell_type": "code",
   "execution_count": 1,
   "id": "6a7c1a2c",
   "metadata": {},
   "outputs": [],
   "source": [
    "import pandas as pd\n",
    "import glob\n",
    "from datetime import datetime\n",
    "from bs4 import BeautifulSoup"
   ]
  },
  {
   "cell_type": "code",
   "execution_count": 2,
   "id": "5cf28bf1",
   "metadata": {},
   "outputs": [],
   "source": [
    "INPUT_DATA_FOLDER = \"data/isw_collected_data\"\n",
    "\n",
    "OUTPUT_FOLDER = \"data/isw_raw_pandas\"\n",
    "OUTPUT_DATA_FILE = \"all_isw_new.csv\""
   ]
  },
  {
   "cell_type": "code",
   "execution_count": 3,
   "id": "00209747",
   "metadata": {},
   "outputs": [],
   "source": [
    "isw_by_days = glob.glob (f\"{INPUT_DATA_FOLDER}/*.html\")"
   ]
  },
  {
   "cell_type": "code",
   "execution_count": 5,
   "id": "f482e2a0",
   "metadata": {},
   "outputs": [],
   "source": [
    "all_isw = []\n",
    "for file in isw_by_days:\n",
    "    d = {}\n",
    "    file_name = file.split('\\\\')[-1]\n",
    "    \n",
    "    date = file_name.split(\".\")[0]\n",
    "    url = file_name\n",
    "    \n",
    "    with open(file,\"r\", encoding=\"UTF-8\") as cfile:\n",
    "        parsed_html = BeautifulSoup(cfile.read())\n",
    "        title = parsed_html.head.find ('title').text\n",
    "        link = parsed_html.head.find ('link', attrs={'rel':'canonical'}, href=True).attrs[\"href\"]\n",
    "        text_title = parsed_html.body.find('h1', attrs={'id':'page-title'}).text\n",
    "        \n",
    "        text_main = parsed_html.find('div', attrs={'class':'field field-name-body field-type-text-with-summary field-label-hidden'}).text\n",
    "        d = {\n",
    "            \"date\":date,\n",
    "            \"short_url\":url,\n",
    "            \"title\":title,\n",
    "            \"text_title\":text_title,\n",
    "            \"full_url\":link,\n",
    "            \"main_html\":text_main,\n",
    "        }\n",
    "        \n",
    "        all_isw.append(d)\n",
    "        "
   ]
  },
  {
   "cell_type": "code",
   "execution_count": 6,
   "id": "10628bc7",
   "metadata": {},
   "outputs": [],
   "source": [
    "df = pd.DataFrame.from_dict(all_isw)"
   ]
  },
  {
   "cell_type": "code",
   "execution_count": 7,
   "id": "efc4b5f9",
   "metadata": {},
   "outputs": [
    {
     "data": {
      "text/plain": "         date        short_url  \\\n0  2022-02-24  2022-02-24.html   \n1  2022-02-25  2022-02-25.html   \n2  2022-02-26  2022-02-26.html   \n3  2022-02-27  2022-02-27.html   \n4  2022-02-28  2022-02-28.html   \n5  2022-03-01  2022-03-01.html   \n6  2022-03-02  2022-03-02.html   \n7  2022-03-03  2022-03-03.html   \n8  2022-03-04  2022-03-04.html   \n9  2022-03-05  2022-03-05.html   \n\n                                               title  \\\n0  Russia-Ukraine Warning Update: Initial Russian...   \n1  Russia-Ukraine Warning Update: Russian Offensi...   \n2  Russia-Ukraine Warning Update: Russian Offensi...   \n3  Russia-Ukraine Warning Update: Russian Offensi...   \n4  Russian Offensive Campaign Assessment, Februar...   \n5  Russian Offensive Campaign Assessment, March 1...   \n6  Russian Offensive Campaign Assessment, March 2...   \n7  Russian Offensive Campaign Assessment, March 3...   \n8  Russian Offensive Campaign Assessment, March 4...   \n9  Russian Offensive Campaign Assessment, March 5...   \n\n                                          text_title  \\\n0  Russia-Ukraine Warning Update: Initial Russian...   \n1  Russia-Ukraine Warning Update: Russian Offensi...   \n2  Russia-Ukraine Warning Update: Russian Offensi...   \n3  Russia-Ukraine Warning Update: Russian Offensi...   \n4  Russian Offensive Campaign Assessment, Februar...   \n5     Russian Offensive Campaign Assessment, March 1   \n6     Russian Offensive Campaign Assessment, March 2   \n7     Russian Offensive Campaign Assessment, March 3   \n8     Russian Offensive Campaign Assessment, March 4   \n9     Russian Offensive Campaign Assessment, March 5   \n\n                                            full_url  \\\n0  /backgrounder/russia-ukraine-warning-update-in...   \n1  /backgrounder/russia-ukraine-warning-update-ru...   \n2  /backgrounder/russia-ukraine-warning-update-ru...   \n3  /backgrounder/russia-ukraine-warning-update-ru...   \n4  /backgrounder/russian-offensive-campaign-asses...   \n5  /backgrounder/russian-offensive-campaign-asses...   \n6  /backgrounder/russian-offensive-campaign-asses...   \n7  /backgrounder/russian-offensive-campaign-asses...   \n8  /backgrounder/russian-offensive-campaign-asses...   \n9  /backgrounder/russian-offensive-campaign-asses...   \n\n                                           main_html  \n0    \\nMason Clark, George Barros, and Kateryna S...  \n1   Mason Clark, George Barros, and Kateryna Step...  \n2   Mason Clark, George Barros, and Katya Stepane...  \n3   \\nMason Clark, George Barros, and Kateryna St...  \n4    \\nMason Clark, George Barros, and Kateryna S...  \n5    \\nFrederick W. Kagan, George Barros, and Kat...  \n6    \\nMason Clark, George Barros, and Kateryna S...  \n7    \\nMason Clark, George Barros, and Kateryna S...  \n8   \\nFredrick W. Kagan, George Barros, and Kater...  \n9    \\nFredrick W. Kagan, George Barros, and Kate...  ",
      "text/html": "<div>\n<style scoped>\n    .dataframe tbody tr th:only-of-type {\n        vertical-align: middle;\n    }\n\n    .dataframe tbody tr th {\n        vertical-align: top;\n    }\n\n    .dataframe thead th {\n        text-align: right;\n    }\n</style>\n<table border=\"1\" class=\"dataframe\">\n  <thead>\n    <tr style=\"text-align: right;\">\n      <th></th>\n      <th>date</th>\n      <th>short_url</th>\n      <th>title</th>\n      <th>text_title</th>\n      <th>full_url</th>\n      <th>main_html</th>\n    </tr>\n  </thead>\n  <tbody>\n    <tr>\n      <th>0</th>\n      <td>2022-02-24</td>\n      <td>2022-02-24.html</td>\n      <td>Russia-Ukraine Warning Update: Initial Russian...</td>\n      <td>Russia-Ukraine Warning Update: Initial Russian...</td>\n      <td>/backgrounder/russia-ukraine-warning-update-in...</td>\n      <td>\\nMason Clark, George Barros, and Kateryna S...</td>\n    </tr>\n    <tr>\n      <th>1</th>\n      <td>2022-02-25</td>\n      <td>2022-02-25.html</td>\n      <td>Russia-Ukraine Warning Update: Russian Offensi...</td>\n      <td>Russia-Ukraine Warning Update: Russian Offensi...</td>\n      <td>/backgrounder/russia-ukraine-warning-update-ru...</td>\n      <td>Mason Clark, George Barros, and Kateryna Step...</td>\n    </tr>\n    <tr>\n      <th>2</th>\n      <td>2022-02-26</td>\n      <td>2022-02-26.html</td>\n      <td>Russia-Ukraine Warning Update: Russian Offensi...</td>\n      <td>Russia-Ukraine Warning Update: Russian Offensi...</td>\n      <td>/backgrounder/russia-ukraine-warning-update-ru...</td>\n      <td>Mason Clark, George Barros, and Katya Stepane...</td>\n    </tr>\n    <tr>\n      <th>3</th>\n      <td>2022-02-27</td>\n      <td>2022-02-27.html</td>\n      <td>Russia-Ukraine Warning Update: Russian Offensi...</td>\n      <td>Russia-Ukraine Warning Update: Russian Offensi...</td>\n      <td>/backgrounder/russia-ukraine-warning-update-ru...</td>\n      <td>\\nMason Clark, George Barros, and Kateryna St...</td>\n    </tr>\n    <tr>\n      <th>4</th>\n      <td>2022-02-28</td>\n      <td>2022-02-28.html</td>\n      <td>Russian Offensive Campaign Assessment, Februar...</td>\n      <td>Russian Offensive Campaign Assessment, Februar...</td>\n      <td>/backgrounder/russian-offensive-campaign-asses...</td>\n      <td>\\nMason Clark, George Barros, and Kateryna S...</td>\n    </tr>\n    <tr>\n      <th>5</th>\n      <td>2022-03-01</td>\n      <td>2022-03-01.html</td>\n      <td>Russian Offensive Campaign Assessment, March 1...</td>\n      <td>Russian Offensive Campaign Assessment, March 1</td>\n      <td>/backgrounder/russian-offensive-campaign-asses...</td>\n      <td>\\nFrederick W. Kagan, George Barros, and Kat...</td>\n    </tr>\n    <tr>\n      <th>6</th>\n      <td>2022-03-02</td>\n      <td>2022-03-02.html</td>\n      <td>Russian Offensive Campaign Assessment, March 2...</td>\n      <td>Russian Offensive Campaign Assessment, March 2</td>\n      <td>/backgrounder/russian-offensive-campaign-asses...</td>\n      <td>\\nMason Clark, George Barros, and Kateryna S...</td>\n    </tr>\n    <tr>\n      <th>7</th>\n      <td>2022-03-03</td>\n      <td>2022-03-03.html</td>\n      <td>Russian Offensive Campaign Assessment, March 3...</td>\n      <td>Russian Offensive Campaign Assessment, March 3</td>\n      <td>/backgrounder/russian-offensive-campaign-asses...</td>\n      <td>\\nMason Clark, George Barros, and Kateryna S...</td>\n    </tr>\n    <tr>\n      <th>8</th>\n      <td>2022-03-04</td>\n      <td>2022-03-04.html</td>\n      <td>Russian Offensive Campaign Assessment, March 4...</td>\n      <td>Russian Offensive Campaign Assessment, March 4</td>\n      <td>/backgrounder/russian-offensive-campaign-asses...</td>\n      <td>\\nFredrick W. Kagan, George Barros, and Kater...</td>\n    </tr>\n    <tr>\n      <th>9</th>\n      <td>2022-03-05</td>\n      <td>2022-03-05.html</td>\n      <td>Russian Offensive Campaign Assessment, March 5...</td>\n      <td>Russian Offensive Campaign Assessment, March 5</td>\n      <td>/backgrounder/russian-offensive-campaign-asses...</td>\n      <td>\\nFredrick W. Kagan, George Barros, and Kate...</td>\n    </tr>\n  </tbody>\n</table>\n</div>"
     },
     "execution_count": 7,
     "metadata": {},
     "output_type": "execute_result"
    }
   ],
   "source": [
    "df.head(10)"
   ]
  },
  {
   "cell_type": "code",
   "execution_count": 8,
   "id": "91b8b5c0",
   "metadata": {},
   "outputs": [],
   "source": [
    "df.to_csv(f\"{OUTPUT_FOLDER}/{OUTPUT_DATA_FILE}\", sep=\";\",index = False)"
   ]
  }
 ],
 "metadata": {
  "kernelspec": {
   "display_name": "Python 3 (ipykernel)",
   "language": "python",
   "name": "python3"
  },
  "language_info": {
   "codemirror_mode": {
    "name": "ipython",
    "version": 3
   },
   "file_extension": ".py",
   "mimetype": "text/x-python",
   "name": "python",
   "nbconvert_exporter": "python",
   "pygments_lexer": "ipython3",
   "version": "3.10.0"
  }
 },
 "nbformat": 4,
 "nbformat_minor": 5
}
